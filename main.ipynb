{
 "cells": [
  {
   "cell_type": "code",
   "execution_count": null,
   "metadata": {},
   "outputs": [],
   "source": []
  },
  {
   "cell_type": "code",
   "execution_count": 43,
   "metadata": {},
   "outputs": [
    {
     "name": "stdout",
     "output_type": "stream",
     "text": [
      "\\u0030\\u0031\\u0032\\u0033\\u0034\\u0035\\u0036\\u0037\\u0038\\u0039"
     ]
    }
   ],
   "source": [
    "from PIL import Image, ImageFont, ImageDraw\n",
    "import shutil\n",
    "import os\n",
    "\n",
    "if os.path.exists('./temp'):\n",
    "    shutil.rmtree('./temp')\n",
    "os.mkdir('./temp')\n",
    "\n",
    "text_list = \"0123456789\"\n",
    "\n",
    "\n",
    "\n",
    "# use a truetype font\n",
    "font = ImageFont.truetype(\"PixeloidMono-d94EV.ttf\",8)\n",
    "x = 0\n",
    "for tx in text_list:\n",
    "    im = Image.new(\"RGBA\", (8, 8))\n",
    "\n",
    "    draw = ImageDraw.Draw(im)\n",
    "    draw.text((0, -1), tx, font=font)\n",
    "    im.save('./temp/'+str(x)+\".png\")\n",
    "    x += 1\n",
    "\n",
    "# mage image \n",
    "folder_path = \"./temp\"\n",
    "images = []\n",
    "for filename in os.listdir(folder_path):\n",
    "    file_path = os.path.join(folder_path, filename)\n",
    "    if os.path.isfile(file_path):\n",
    "        img = Image.open(file_path)\n",
    "        images.append(img)\n",
    "merged_image = Image.new('RGB', (sum(img.width for img in images), max(img.height for img in images)))\n",
    "x_offset = 0\n",
    "for img in images:\n",
    "    merged_image.paste(img, (x_offset, 0))\n",
    "    x_offset += img.width\n",
    "merged_image.save(\"output.png\")\n",
    "\n",
    "\n",
    "for ch in text_list:\n",
    "    print(r'\\u{:04X}'.format(ord(ch)),end=\"\")"
   ]
  }
 ],
 "metadata": {
  "kernelspec": {
   "display_name": "Python 3",
   "language": "python",
   "name": "python3"
  },
  "language_info": {
   "codemirror_mode": {
    "name": "ipython",
    "version": 3
   },
   "file_extension": ".py",
   "mimetype": "text/x-python",
   "name": "python",
   "nbconvert_exporter": "python",
   "pygments_lexer": "ipython3",
   "version": "3.11.0"
  },
  "orig_nbformat": 4
 },
 "nbformat": 4,
 "nbformat_minor": 2
}
